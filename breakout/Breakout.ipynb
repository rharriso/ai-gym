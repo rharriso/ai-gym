{
 "cells": [
  {
   "cell_type": "code",
   "execution_count": 64,
   "metadata": {
    "scrolled": false
   },
   "outputs": [],
   "source": [
    "import numpy as np\n",
    "import gym\n",
    "import os\n",
    "from progressbar import ProgressBar\n",
    "from time import sleep\n",
    "import scipy\n",
    "from matplotlib import image\n",
    "\n",
    "from keras.models import Sequential\n",
    "from keras.layers import Dense, Activation\n",
    "from keras import optimizers\n",
    "from keras import backend as K\n",
    "\n",
    "env = gym.make('Breakout-v0')\n",
    "state_size = env.observation_space.shape[0]\n",
    "action_size = env.env.action_space.n"
   ]
  },
  {
   "cell_type": "code",
   "execution_count": 4,
   "metadata": {},
   "outputs": [],
   "source": [
    "# create the networks\n",
    "# input 84x84x4\n",
    "# convo \"32 filters 8x8 stride 4\", relu\n",
    "# convo \"64 filters 4x4 stride 2\", relu\n",
    "# convo \"64 filters 4x4 stride 2\", relu\n",
    "# convo \"64 filters 3x3 stride 1\", relu\n",
    "# 512 fully connected rectifier\n",
    "# output (action-size) fully connected, linear\n",
    "\n",
    "# make a hat, and a q hat"
   ]
  },
  {
   "cell_type": "code",
   "execution_count": 72,
   "metadata": {},
   "outputs": [],
   "source": [
    "def pre_process_frame(frame, prev_frame):\n",
    "    r = frame[:,:,0] # red channel\n",
    "    g = frame[:,:,1] # blue channel\n",
    "    b = frame[:,:,2] # green channel\n",
    "    l = (0.2126*r + 0.7152*g + 0.0722*b) # luminescence \n",
    "    max_r = max(np.max(prev_frame[:,:,0]), np.max(r))\n",
    "    max_g = max(np.max(prev_frame[:,:,1]), np.max(g))\n",
    "    max_b = max(np.max(prev_frame[:,:,2]), np.max(b))\n",
    "    \n",
    "    \n",
    "    normalized_color = np.zeros((frame.shape[0], frame.shape[1], 3))\n",
    "    normalized_color[:,:,0] = r.astype(np.float64) / max_r\n",
    "    normalized_color[:,:,1] = g.astype(np.float64) / max_g\n",
    "    normalized_color[:,:,2] = b.astype(np.float64) / max_b\n",
    "#     normalized_color[:,:,3] = l\n",
    "    \n",
    "    \n",
    "    phi_frame = np.zeros((84, 84, 3))\n",
    "    zoom_shape = np.array(phi_frame.shape, dtype=float) / np.array(normalized_color.shape, dtype=float)\n",
    "    phi_frame = scipy.ndimage.zoom(normalized_color, zoom_shape)\n",
    "    return phi_frame\n",
    "\n",
    "state = env.reset()\n",
    "done = False\n",
    "lives = -1\n",
    "prev_frame = np.zeros_like(state) # the \"prevvious\" frame is nothing\n",
    "i = 0\n",
    "\n",
    "while not done:\n",
    "    i += 1\n",
    "    old_lives = lives\n",
    "#     env.render()\n",
    "    action = np.random.randint(action_size)\n",
    "    frame, reward, done, ale_lives = env.step(action)\n",
    "    lives = ale_lives['ale.lives']\n",
    "    phi_frame = pre_process_frame(frame, prev_frame)  \n",
    "    image.imsave(\n",
    "        \"/home/rharriso/Desktop/frames/frame-%s.png\" % i,\n",
    "        (phi_frame * 200).astype(np.uint8)\n",
    "    )\n",
    "    \n",
    "#     if lives != old_lives or not np.isclose(reward, 0.0):\n",
    "#         print(reward, done, lives)\n",
    "    \n",
    "    lives = ale_lives['ale.lives']\n",
    "    \n",
    "    # preprocess frame\n",
    "    # max of each color channel last two frames (flicker)\n",
    "    # extract a Y channel (luminecense)\n",
    "    \n",
    "    \n",
    "    prev_frame = frame"
   ]
  },
  {
   "cell_type": "code",
   "execution_count": null,
   "metadata": {},
   "outputs": [],
   "source": []
  }
 ],
 "metadata": {
  "kernelspec": {
   "display_name": "Python 3",
   "language": "python",
   "name": "python3"
  },
  "language_info": {
   "codemirror_mode": {
    "name": "ipython",
    "version": 3
   },
   "file_extension": ".py",
   "mimetype": "text/x-python",
   "name": "python",
   "nbconvert_exporter": "python",
   "pygments_lexer": "ipython3",
   "version": "3.6.4"
  }
 },
 "nbformat": 4,
 "nbformat_minor": 2
}
