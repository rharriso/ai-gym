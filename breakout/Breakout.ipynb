{
 "cells": [
  {
   "cell_type": "code",
   "execution_count": 52,
   "metadata": {
    "scrolled": false
   },
   "outputs": [],
   "source": [
    "import numpy as np\n",
    "import gym\n",
    "import os\n",
    "from progressbar import ProgressBar\n",
    "from time import sleep\n",
    "\n",
    "from keras.models import Sequential\n",
    "from keras.layers import Dense, Activation\n",
    "from keras import optimizers\n",
    "from keras import backend as K\n",
    "\n",
    "env = gym.make('Breakout-v0')\n",
    "state_size = env.observation_space.shape[0]\n",
    "action_size = env.env.action_space.n"
   ]
  },
  {
   "cell_type": "code",
   "execution_count": 69,
   "metadata": {
    "scrolled": false
   },
   "outputs": [
    {
     "name": "stdout",
     "output_type": "stream",
     "text": [
      "0.0 False 5\n",
      "1.0 False 5\n",
      "0.0 False 4\n",
      "1.0 False 4\n",
      "0.0 False 3\n",
      "0.0 False 2\n",
      "0.0 False 1\n",
      "0.0 True 0\n"
     ]
    }
   ],
   "source": [
    "state = env.reset()\n",
    "done = False\n",
    "lives = -1\n",
    "\n",
    "while not done:\n",
    "    old_lives = lives\n",
    "    env.render()\n",
    "    action = np.random.randint(action_size)\n",
    "    screen, reward, done, ale_lives = env.step(action)\n",
    "    lives = ale_lives['ale.lives']\n",
    "      \n",
    "    if lives != old_lives or not np.isclose(reward, 0.0):\n",
    "        print(reward, done, lives)\n",
    "    \n",
    "    lives = ale_lives['ale.lives']\n",
    "    "
   ]
  },
  {
   "cell_type": "code",
   "execution_count": null,
   "metadata": {},
   "outputs": [],
   "source": []
  }
 ],
 "metadata": {
  "kernelspec": {
   "display_name": "Python 3",
   "language": "python",
   "name": "python3"
  },
  "language_info": {
   "codemirror_mode": {
    "name": "ipython",
    "version": 3
   },
   "file_extension": ".py",
   "mimetype": "text/x-python",
   "name": "python",
   "nbconvert_exporter": "python",
   "pygments_lexer": "ipython3",
   "version": "3.6.4"
  }
 },
 "nbformat": 4,
 "nbformat_minor": 2
}
